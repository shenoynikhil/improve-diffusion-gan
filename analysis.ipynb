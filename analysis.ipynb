{
 "cells": [
  {
   "cell_type": "code",
   "execution_count": 1,
   "id": "9d094235-7d8d-403b-a684-6c72030ef70b",
   "metadata": {},
   "outputs": [
    {
     "data": {
      "text/plain": [
       "PosixPath('/scratch/st-jiaruid-1/shenoy/projects/cpsc533r-project')"
      ]
     },
     "execution_count": 1,
     "metadata": {},
     "output_type": "execute_result"
    }
   ],
   "source": [
    "import os\n",
    "from hydra import initialize, compose\n",
    "from hydra.utils import instantiate, HydraConfig\n",
    "from omegaconf import OmegaConf\n",
    "import pyrootutils\n",
    "\n",
    "pyrootutils.setup_root(\".\", indicator=\".project-root\", pythonpath=True)"
   ]
  },
  {
   "cell_type": "code",
   "execution_count": 2,
   "id": "ed6a5a3c-5044-43f3-a03e-bc7906fe5a10",
   "metadata": {
    "tags": []
   },
   "outputs": [],
   "source": [
    "with initialize(version_base=\"1.3.1\", config_path=\"configs/\"):\n",
    "    cfg = compose(\n",
    "        config_name=\"train.yaml\", overrides=[\"experiment=cifar10/diffusion_vanilla_gan.yaml\"],\n",
    "        return_hydra_config=True\n",
    "    )\n",
    "    HydraConfig.instance().set_config(cfg)"
   ]
  },
  {
   "cell_type": "code",
   "execution_count": 3,
   "id": "ed2388b6-130d-414f-ba2f-8dfe3c060900",
   "metadata": {},
   "outputs": [
    {
     "name": "stderr",
     "output_type": "stream",
     "text": [
      "/arc/project/st-jiaruid-1/miniconda3/envs/torch-basic/lib/python3.8/site-packages/tqdm/auto.py:22: TqdmWarning: IProgress not found. Please update jupyter and ipywidgets. See https://ipywidgets.readthedocs.io/en/stable/user_install.html\n",
      "  from .autonotebook import tqdm as notebook_tqdm\n"
     ]
    },
    {
     "name": "stdout",
     "output_type": "stream",
     "text": [
      "Files already downloaded and verified\n"
     ]
    }
   ],
   "source": [
    "dm = instantiate(cfg.datamodule)"
   ]
  },
  {
   "cell_type": "code",
   "execution_count": 4,
   "id": "aa505fcf-09bb-44d7-bcce-83c006da5e23",
   "metadata": {
    "tags": []
   },
   "outputs": [],
   "source": [
    "model = instantiate(cfg.model)"
   ]
  },
  {
   "cell_type": "code",
   "execution_count": 5,
   "id": "1e99d637-55a9-4c4e-bda7-f56dc731c9af",
   "metadata": {},
   "outputs": [],
   "source": [
    "dl = dm.train_dataloader()"
   ]
  },
  {
   "cell_type": "code",
   "execution_count": 6,
   "id": "d705159f-7bcd-40a3-b2c2-6b16e90f2b8c",
   "metadata": {},
   "outputs": [],
   "source": [
    "batch = next(iter(dl))"
   ]
  },
  {
   "cell_type": "code",
   "execution_count": null,
   "id": "0ab37072",
   "metadata": {},
   "outputs": [],
   "source": [
    "main(config)"
   ]
  },
  {
   "cell_type": "code",
   "execution_count": null,
   "id": "0b4b8cdc",
   "metadata": {},
   "outputs": [],
   "source": []
  },
  {
   "cell_type": "code",
   "execution_count": null,
   "id": "3ccc634a-9728-48a6-ab3d-a57bcee67f3f",
   "metadata": {},
   "outputs": [],
   "source": []
  }
 ],
 "metadata": {
  "kernelspec": {
   "display_name": "torch",
   "language": "python",
   "name": "torch"
  },
  "language_info": {
   "codemirror_mode": {
    "name": "ipython",
    "version": 3
   },
   "file_extension": ".py",
   "mimetype": "text/x-python",
   "name": "python",
   "nbconvert_exporter": "python",
   "pygments_lexer": "ipython3",
   "version": "3.8.15"
  }
 },
 "nbformat": 4,
 "nbformat_minor": 5
}
